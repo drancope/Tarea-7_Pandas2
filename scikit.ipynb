{
 "cells": [
  {
   "cell_type": "code",
   "execution_count": 1,
   "id": "81466518",
   "metadata": {
    "scrolled": true
   },
   "outputs": [
    {
     "name": "stdout",
     "output_type": "stream",
     "text": [
      "                  hora  temperatura  humedad\n",
      "0  1644165435711000000         23.0     35.0\n",
      "1  1644165665533000000         23.0     35.0\n",
      "2  1644166028500000000         23.0     35.0\n",
      "3  1644166208318000000         23.0     35.0\n",
      "4  1644166387340000000         23.0     35.0\n",
      "\n",
      "Index(['hora', 'temperatura', 'humedad'], dtype='object')\n"
     ]
    }
   ],
   "source": [
    "import pandas as pd\n",
    "import numpy as np\n",
    "\n",
    "clima = pd.read_csv('datos.csv',names=['hora','temperatura','humedad'])\n",
    "pd.set_option('mode.chained_assignment',None)\n",
    "for i in range(759):\n",
    "    clima.hora[i] = clima.hora[i][1:25]\n",
    "\n",
    "clima['hora']= pd.to_datetime(clima['hora'])\n",
    "clima['hora']= pd.to_numeric(clima['hora'])\n",
    "print(clima.head())\n",
    "print()\n",
    "print(clima.columns)"
   ]
  },
  {
   "cell_type": "code",
   "execution_count": 2,
   "id": "9746814b",
   "metadata": {},
   "outputs": [
    {
     "name": "stdout",
     "output_type": "stream",
     "text": [
      "                    hora  temperatura  humedad\n",
      "754  1644441817907000000         21.0     36.0\n",
      "755  1644442417910000000         21.0     36.0\n",
      "756  1644443018912000000         21.0     37.0\n",
      "757  1644443618415000000         21.0     37.0\n",
      "758  1644443812197000000         21.0     37.0\n"
     ]
    }
   ],
   "source": [
    "print(clima.tail())"
   ]
  },
  {
   "cell_type": "code",
   "execution_count": 3,
   "id": "a80c2348",
   "metadata": {},
   "outputs": [],
   "source": [
    "y = clima.humedad\n",
    "X = clima[['hora','temperatura']]\n"
   ]
  },
  {
   "cell_type": "code",
   "execution_count": 4,
   "id": "4761aa5b",
   "metadata": {},
   "outputs": [
    {
     "data": {
      "text/plain": [
       "DecisionTreeRegressor(random_state=1)"
      ]
     },
     "execution_count": 4,
     "metadata": {},
     "output_type": "execute_result"
    }
   ],
   "source": [
    "from sklearn.tree import DecisionTreeRegressor\n",
    "modelo = DecisionTreeRegressor(random_state=1)\n",
    "modelo.fit(X, y)"
   ]
  },
  {
   "cell_type": "code",
   "execution_count": 5,
   "id": "6c690a79",
   "metadata": {},
   "outputs": [
    {
     "name": "stdout",
     "output_type": "stream",
     "text": [
      "predicción de humedad suponiendo que no tuviéramos ese dato, para las primeras 5 filas\n",
      "                  hora  temperatura\n",
      "0  1644165435711000000         23.0\n",
      "1  1644165665533000000         23.0\n",
      "2  1644166028500000000         23.0\n",
      "3  1644166208318000000         23.0\n",
      "4  1644166387340000000         23.0\n",
      "La predicción es:\n",
      "[35. 35. 35. 35. 35.]\n"
     ]
    }
   ],
   "source": [
    "print(\"predicción de humedad suponiendo que no tuviéramos ese dato, para las primeras 5 filas\")\n",
    "print(X.head())\n",
    "print(\"La predicción es:\")\n",
    "print(modelo.predict(X.head()))"
   ]
  },
  {
   "cell_type": "code",
   "execution_count": 6,
   "id": "52993477",
   "metadata": {},
   "outputs": [
    {
     "name": "stdout",
     "output_type": "stream",
     "text": [
      "predicción de humedad suponiendo que no tuviéramos ese dato, para las últimas 5 filas\n",
      "                    hora  temperatura\n",
      "754  1644441817907000000         21.0\n",
      "755  1644442417910000000         21.0\n",
      "756  1644443018912000000         21.0\n",
      "757  1644443618415000000         21.0\n",
      "758  1644443812197000000         21.0\n",
      "La predicción es:\n",
      "[36. 36. 37. 37. 37.]\n"
     ]
    }
   ],
   "source": [
    "print(\"predicción de humedad suponiendo que no tuviéramos ese dato, para las últimas 5 filas\")\n",
    "print(X.tail())\n",
    "print(\"La predicción es:\")\n",
    "\n",
    "print(modelo.predict(X.tail()))"
   ]
  },
  {
   "cell_type": "code",
   "execution_count": 7,
   "id": "ba477fa8",
   "metadata": {},
   "outputs": [
    {
     "data": {
      "text/plain": [
       "0.0013175230566534915"
      ]
     },
     "execution_count": 7,
     "metadata": {},
     "output_type": "execute_result"
    }
   ],
   "source": [
    "from sklearn.metrics import mean_absolute_error\n",
    "\n",
    "humedad_pred = modelo.predict(X)\n",
    "mean_absolute_error(y, humedad_pred)"
   ]
  },
  {
   "cell_type": "code",
   "execution_count": 8,
   "id": "35547d78",
   "metadata": {},
   "outputs": [
    {
     "name": "stdout",
     "output_type": "stream",
     "text": [
      "0.21578947368421053\n"
     ]
    }
   ],
   "source": [
    "from sklearn.model_selection import train_test_split\n",
    "\n",
    "train_X, val_X, train_y, val_y = train_test_split(X, y, random_state = 0)\n",
    "\n",
    "modelo2 = DecisionTreeRegressor()\n",
    "\n",
    "modelo2.fit(train_X, train_y)\n",
    "\n",
    "# get predicted prices on validation data\n",
    "val_predictions = modelo2.predict(val_X)\n",
    "print(mean_absolute_error(val_y, val_predictions))\n",
    "\n"
   ]
  }
 ],
 "metadata": {
  "kernelspec": {
   "display_name": "Python 3 (ipykernel)",
   "language": "python",
   "name": "python3"
  },
  "language_info": {
   "codemirror_mode": {
    "name": "ipython",
    "version": 3
   },
   "file_extension": ".py",
   "mimetype": "text/x-python",
   "name": "python",
   "nbconvert_exporter": "python",
   "pygments_lexer": "ipython3",
   "version": "3.9.7"
  }
 },
 "nbformat": 4,
 "nbformat_minor": 5
}
