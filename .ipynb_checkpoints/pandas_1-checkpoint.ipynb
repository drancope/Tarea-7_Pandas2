{
 "cells": [
  {
   "cell_type": "markdown",
   "metadata": {
    "cell_id": "00000-8f70d613-1625-4991-95ef-caaa2dbe2aaa",
    "deepnote_app_coordinates": {
     "h": 5,
     "w": 12,
     "x": 0,
     "y": null
    },
    "deepnote_cell_type": "markdown",
    "tags": []
   },
   "source": [
    "# Pandas: explicaciones y ejercicios\n",
    "\n",
    "Pandas es la librería de Python que te permite cargar datos, modelarlos, analizarlos, manipularlos y prepararlos.\n",
    "\n",
    "Es una librería de código abierto que se encarga de la manipulación de datos de alto nivel y está construida sobre otra librería llamada NumPy. Tiene varias estructuras de datos para manipular y tratar la información. Una de las principales estructuras guarda la información tabulada en un objeto llamado ***DataFrame***.\n",
    "\n",
    "Antes de trabajar con pandas, hay que importarlo dentro del entorno de ejecución. Bastaría con la siguiente instrucción:\n",
    "\n",
    "```python\n",
    "import pandas\n",
    "```\n",
    "\n",
    "### Alias\n",
    "\n",
    "Para usar las funciones de **Pandas**, hay que escribir el nombre de la librería, y luego el punto y el nombre de la función. Esto es algo engorroso, así que se usa un *alias* para el nombre de la librería. Con esto conseguimos reducir la cantidad de escritura: No es lo mismo <code>pandas.merge()</code> que escribir <code>pd.merge()</code>.\n",
    "\n",
    "Bueno, en realidad no hay mucha diferencia. Pero cuando usamos varias librerías -y algunas tienen el nombre más largo-, todo el mundo usa los *alias*, y todos casi con las mismas abreviaturas. Esto nos obliga a hacer lo mismo nosotros, para que, cuando encontremos en Internet algún ejemplo, reconozcamos lo que están haciendo.\n",
    "\n",
    "La instrucción completa *con alias* es:\n",
    "\n",
    "``` python\n",
    "import pandas as pd\n",
    "```\n",
    "\n",
    "#### Ejercicio 1:\n",
    "importar la librería *pandas*, copiando la instrucción anterior en la celda siguiente:"
   ]
  },
  {
   "cell_type": "code",
   "execution_count": null,
   "metadata": {
    "cell_id": "00001-92b16f54-34c4-4f1f-8343-4fd2bce769bc",
    "deepnote_app_coordinates": {
     "h": 5,
     "w": 12,
     "x": 0,
     "y": 6
    },
    "deepnote_cell_type": "code",
    "deepnote_to_be_reexecuted": false,
    "execution_millis": 8,
    "execution_start": 1645375717926,
    "source_hash": "9b82ee11",
    "tags": []
   },
   "outputs": [],
   "source": []
  },
  {
   "cell_type": "markdown",
   "metadata": {},
   "source": [
    "## Dataframes\n",
    "\n",
    "La librería **Pandas** maneja un tipo de variable especial, el ***DataFrame***. Se trata de una tabla de datos. Es una especie de hoja de cálculo, que contiene números o letras en cada columna. Hay otros tipos de datos, pero éste es el más común.\n",
    "\n",
    "Para crear una variable de tipo DataFrame se utiliza la función **DataFrame()** de Pandas. Hay que tener en cuenta:\n",
    "\n",
    "1. La función tendremos que asignarla a un nombre de variable. Igual que hacemos <code>A = 8</code>, ahora usaremos un nombre para nuestro DataFrame: <code>datos = DataFrame()</code>\n",
    "2. Esto no funciona totalmente, porque, como hemos visto en el notebook de funciones, al usar cada función hay que poner también el nombre de librería a la que pertenece: <code>datos = pd.DataFrame()</code>\n",
    "1. Por último, dentro de la función podemos poner parámetros. DataFrame admite que pongamos dentro de los paréntesis una lista de diccionarios o un diccionario de listas.\n",
    "\n",
    "### Diccionarios y listas.\n",
    "\n",
    "Ya conocemos las listas: son variables que tienen varios datos, y se crean utilizando los corchetes: <code>colores = ['azul', 'blanco', 'verde', 'rojo']</code>\n",
    "\n",
    "Los diccionarios son parecidos, pero los datos se agrupan por parejas, y se usan las llaves para crearlos: `persona = {'nombre': 'José', 'apellido': 'Sánchez'}`\n",
    "\n",
    "Lo importante ahora es que cada dato de las listas podría ser un diccionario, o al revés:\n",
    "```python\n",
    "# Usando una lista de diccionarios:\n",
    "coche1 = {'marca': 'Ford', 'año': 1992, 'color': 'Rojo'}\n",
    "coche2 = {'marca': 'Audi', 'año': 2001, 'color': 'Plata'}\n",
    "coche3 = {'marca': 'Opel', 'año': 2012, 'color': 'Blanco'}\n",
    "coches_lista = [coche1, coche2, coche3]\n",
    "\n",
    "# Usando un diccionario de listas:\n",
    "marcas = ['Ford', 'Audi', 'Opel']\n",
    "años = [1992, 2001, 2012]\n",
    "colores = ['Rojo', 'Plata', 'Blanco']\n",
    "coches_diccionario = {'marca': marcas, 'año': años, 'color': colores}\n",
    "```\n",
    "Ahora basta con inicializar nuestro DataFrame poniendo el nombre de la lista de coches o bien el nombre del diccionario de coches dentro de los paréntesis de la función:\n",
    "\n",
    "```python\n",
    "datos = pd.DataFrame(coches_lista)\n",
    "```\n",
    "\n",
    "#### Ejercicio 2: crear un DataFrame\n",
    "\n",
    "Usando lo explicado anteriormente, vas a crear un *dataframe* que tenga por nombre **ropa**, a partir de un diccionario de listas:\n",
    "\n",
    "1. Crear una lista llamada propietarios, con los nombres de dos personas\n",
    "1. Crear una lista de prendas, con los nombres de dos tipos de ropa\n",
    "1. Crear una lista de colores, con dos colores.\n",
    "1. Crear un diccionario con las tres listas anteriores\n",
    "1. Crear el *dataframe*."
   ]
  },
  {
   "cell_type": "code",
   "execution_count": null,
   "metadata": {},
   "outputs": [],
   "source": [
    "# Escribe aquí tu código"
   ]
  },
  {
   "cell_type": "markdown",
   "metadata": {},
   "source": [
    "Imprime ahora el *dataframe*"
   ]
  },
  {
   "cell_type": "code",
   "execution_count": null,
   "metadata": {},
   "outputs": [],
   "source": []
  },
  {
   "cell_type": "markdown",
   "metadata": {},
   "source": [
    "## Examinar los datos: Métodos\n",
    "\n",
    "Los **métodos** son funciones que vienen incorporadas en algunas variables. Por ejemplo, **append**, que hemos usado en el *Notebook* de **Refuerzo1**, es un método que tienen las listas (y diccionarios) para agregar un nuevo elemento.\n",
    "\n",
    "Para ver todos los métodos que tiene una variable se utiliza la función **dir()**:\n",
    "```python\n",
    "A = 7\n",
    "dir(A)\n",
    "B = \"hola\"\n",
    "dir(B)\n",
    "```\n",
    "\n",
    "Sencillamente escribiendo el nombre del *dataframe*, pandas nos devuelve todo el total de datos. Pueden ser miles o millones de filas, según los datos que tengamos. En nuestro caso, *datos* contiene solamente tres filas.\n",
    "Jupyter y Python permiten usar la función `print(datos)`, lo cual imprime una versión recortada de los datos: las cinco primeras filas y las cinco últimas. El resultado impreso está justo debajo de la celda de input. También podemos escribir solamente el nombre de *dataframe*, y entonces Jupyter y Python no imprimen esos datos bajo la celda input, pero a cambio, nos dan un mensaje de aviso de lo que está ocurriendo a través de la *consola* de salida, en una celda *out*. Casualmente, este aviso es igual -en este caso- que si hubiéramos imprimido los datos con *print()*.\n",
    "\n",
    "Los métodos más básicos y útiles de los dataframes son: **describe**, **info**, **append**, **drop**, **mean**, **head**, **size**, o **shape**, todos ellos entre una lista de más de 200.\n",
    "\n",
    "**head()** nos muestra las primeras filas de nuestro archivo de datos. En los paréntesis colocamos el número de filas que queremos ver. Existe una función similar para el final de la lista, llamada **tail()**. Si no ponemos ningún número, intentará devolver las cinco primeras filas. Ejemplo: `datos.head(2)`\n",
    "\n",
    "**describe()** nos muestra un resumen con cálculos de medias, mínimos, y máximos y otros valores estadísticos, que se obtienen de los datos numéricos.\n",
    "\n",
    "**info()** proporciona un resumen del *dataframe*, incluyendo el tipo de índice, las columnas, los valores útiles, y la memoria que ocupa.\n",
    "\n",
    "**mean()** calcula la media de una columna de números.\n",
    "\n",
    "**append()** y **drop()** añaden una fila y eliminan una fila o columna. *append()* debe dejar de utilizarse en el futuro, ya que se sustituye con el método *concat()*\n",
    "\n",
    "**size** No es un *método* sino una *propiedad*, y por lo tanto, no lleva paréntesis. Devuelve el número de filas multiplicado por el número de columnas. Esta propiedad la contienen también las columnas y las filas.\n",
    "\n",
    "**shape** devuelve el número de filas y el número de columnas.\n",
    "\n",
    "#### Ejercicio 3: inspeccionar datos.\n",
    "\n",
    "Escribe el código para ver las primeras filas (*head()*) del *dataframe* **ropa**, para ver su tamaño (*size*), y el resumen de datos (*describe()*)"
   ]
  },
  {
   "cell_type": "code",
   "execution_count": null,
   "metadata": {},
   "outputs": [],
   "source": [
    "# Escribe tu código aquí\n",
    "\n"
   ]
  },
  {
   "cell_type": "markdown",
   "metadata": {
    "cell_id": "00007-40270340-2d8a-458c-b96f-d878e254b050",
    "deepnote_app_coordinates": {
     "h": 5,
     "w": 12,
     "x": 0,
     "y": 42
    },
    "deepnote_cell_type": "markdown",
    "tags": []
   },
   "source": [
    "## Importar datos\n",
    "\n",
    "Normalmente no crearemos los *dataframes* manualmente.\n",
    "\n",
    "Usaremos datos escritos en un archivo de texto, con formato csv (*\"comma separated values\"*). Muchos programas permiten crear o leer archivos csv. Por ejemplo, hoja de cálculo. En la estación meteorológica que se ha expuesto este año durante la Semana de la Ciencia, el microcontrolador Raspberry que recibía los datos, también los grababa en un archivo csv.\n",
    "\n",
    "Una versión reducida de este archivo se incluye aquí en este repositorio. Se llama **datos.csv**\n",
    "\n",
    "La función que se usa para asignar los datos del archivo a un dataframe es: `pd.read_csv('ruta/archivo.csv')`\n",
    "\n",
    "**Sin embargo, para ver los datos del dataframe no se usa una función de Pandas, sino un *método* del dataframe.**\n",
    "\n",
    "\n",
    "#### Ejercicio 3, cargar archivo csv, inspeccionar datos.\n",
    "\n",
    "Escribe el código para cargar el archivo **datos.csv** y a continuación inspecciónalo con *describe()*, *shape*, *info()* y *head()*. El archivo está en la misma carpeta que el *notebook*, siempre que no hayas movido uno de los dos de sitio, así que no necesitarás poner la ruta."
   ]
  },
  {
   "cell_type": "code",
   "execution_count": null,
   "metadata": {
    "cell_id": "00008-a9f1202a-0d06-4b80-be29-bed8ae7dc2ae",
    "deepnote_app_coordinates": {
     "h": 5,
     "w": 12,
     "x": 0,
     "y": 48
    },
    "deepnote_cell_type": "code",
    "deepnote_to_be_reexecuted": false,
    "execution_millis": 2,
    "execution_start": 1645375718081,
    "source_hash": "e0c0ea6c",
    "tags": []
   },
   "outputs": [],
   "source": [
    "# Escribe tu código aquí\n",
    "\n"
   ]
  }
 ],
 "metadata": {
  "deepnote": {
   "is_reactive": false
  },
  "deepnote_app_layout": "article",
  "deepnote_execution_queue": [],
  "deepnote_notebook_id": "09fb99f4-8376-4633-a0a8-340d6aa40997",
  "kernelspec": {
   "display_name": "Python 3 (ipykernel)",
   "language": "python",
   "name": "python3"
  },
  "language_info": {
   "codemirror_mode": {
    "name": "ipython",
    "version": 3
   },
   "file_extension": ".py",
   "mimetype": "text/x-python",
   "name": "python",
   "nbconvert_exporter": "python",
   "pygments_lexer": "ipython3",
   "version": "3.9.12"
  }
 },
 "nbformat": 4,
 "nbformat_minor": 2
}
