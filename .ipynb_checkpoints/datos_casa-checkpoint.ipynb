{
 "cells": [
  {
   "cell_type": "markdown",
   "id": "6c9c40c2",
   "metadata": {},
   "source": [
    "# Profundización con Pandas\n",
    "## Preparar el trabajo:\n",
    "\n",
    "Ya hemos practicado la parte más basica de Pandas en el notebook anterior. Ahora profundizaremos, utilizando matplotlib para crear gráficos.\n",
    "\n",
    "Ejecuta las siguientes celdas para cargar el DataFrame:"
   ]
  },
  {
   "cell_type": "code",
   "execution_count": 54,
   "id": "7040d9ae",
   "metadata": {},
   "outputs": [],
   "source": [
    "import pandas as pd\n",
    "\n",
    "df = pd.read_csv('datos.csv')"
   ]
  },
  {
   "cell_type": "code",
   "execution_count": null,
   "id": "df6b4ac8",
   "metadata": {},
   "outputs": [],
   "source": [
    "print(df)\n",
    "print(df.size)"
   ]
  },
  {
   "cell_type": "markdown",
   "id": "a4eddacb",
   "metadata": {},
   "source": [
    "### Ejercicio 1:\n",
    "Además de los métodos *size*, *describe()*, *head()* que hemos practicado en el *notebook* anterior, Pandas nos proporciona *mean()* para calcular la media. Como puedes comprobar repasando aquellos ejercicios, se escribe el nombre del dataframe, un punto, y el método. Igual que arriba hemos usado *df.size*, pero en este caso usando *mean()*, con los paréntesis."
   ]
  },
  {
   "cell_type": "code",
   "execution_count": null,
   "id": "5c6f314a",
   "metadata": {},
   "outputs": [],
   "source": []
  },
  {
   "cell_type": "markdown",
   "id": "77c5745b",
   "metadata": {},
   "source": [
    "### Ejercicio 2:\n",
    "También debes practicar el método *count()*, que hace un recuento de la cantidad de datos en cada columna."
   ]
  },
  {
   "cell_type": "code",
   "execution_count": null,
   "id": "3053c820",
   "metadata": {},
   "outputs": [],
   "source": []
  },
  {
   "cell_type": "markdown",
   "id": "f1e3032d",
   "metadata": {},
   "source": [
    "## Plot\n",
    "\n",
    "Los dataframes, como es el caso de nuestro *df*, tienen gran cantidad de métodos asociados. Uno de ellos es **plot()**. Podemos usarlo para realizar un gráfico, escribiendo `df.plot()`\n",
    "\n",
    "### Ejercicio 3: \n",
    "Copia la línea de código del párrafo anterior y ejecútala con *Ctrl + Enter*. Ejecuta también las siguientes, leyendo con atención la explicación."
   ]
  },
  {
   "cell_type": "code",
   "execution_count": null,
   "id": "1c97e232",
   "metadata": {},
   "outputs": [],
   "source": []
  },
  {
   "cell_type": "markdown",
   "id": "c0fda5f0",
   "metadata": {},
   "source": [
    "La primera columna (que es la fecha y hora en formato de texto), será el eje **x**, y las otras dos se colocan en el eje **y** con dos colores distintos.\n",
    "\n",
    "Podemos restringir el gráfico a solo una columna: `df[23.00].plot()`. Compruébalo ejecutando la siguiente celda."
   ]
  },
  {
   "cell_type": "code",
   "execution_count": null,
   "id": "14a073c0",
   "metadata": {
    "scrolled": true
   },
   "outputs": [],
   "source": [
    "df['23.00'].plot()"
   ]
  },
  {
   "cell_type": "markdown",
   "id": "05951657",
   "metadata": {},
   "source": [
    "Podríamos también escribir `df.plot('23.00')`, pero la función plot entonces intenta tomar todo el dataframe desde la columna que empieza por 23.00, que se convertirá en el eje **x** y la que empieza por 35.00 será el eje **y**."
   ]
  },
  {
   "cell_type": "code",
   "execution_count": null,
   "id": "c3c4a5d2",
   "metadata": {},
   "outputs": [],
   "source": [
    "df.plot('23.00')"
   ]
  },
  {
   "cell_type": "markdown",
   "id": "7d865d2a",
   "metadata": {},
   "source": [
    "El gráfico que se genera en este último ejemplo es difícil de interpretar, porque va colocando los puntos de la columna bajo el 35.00 uno tras otro encima de cada valor de la columna anterior, y los une con una línea que se ha convertido en un zig-zag sin sentido.\n",
    "\n",
    "Sería más adecuado verlo en forma de barras, poniendo en la **x** el dato de fecha-hora, y en la **y** dejando solamente la temperatura (es la segunda columna, que empieza por 23.00):"
   ]
  },
  {
   "cell_type": "code",
   "execution_count": null,
   "id": "858c2b74",
   "metadata": {
    "scrolled": true
   },
   "outputs": [],
   "source": [
    "df.plot(y='23.00', kind='bar')"
   ]
  },
  {
   "cell_type": "code",
   "execution_count": null,
   "id": "c05b5764",
   "metadata": {},
   "outputs": [],
   "source": [
    "df['23.00'].plot(kind='bar')"
   ]
  },
  {
   "cell_type": "markdown",
   "id": "b123637f",
   "metadata": {},
   "source": [
    "O en forma de puntos, para lo cual tenemos que definir cuál es la columna que pondremos en la línea **x** y cuál la que irá en la **y**:"
   ]
  },
  {
   "cell_type": "code",
   "execution_count": null,
   "id": "db8f5231",
   "metadata": {},
   "outputs": [],
   "source": [
    "df.plot(x='35.00', y='23.00', kind='scatter')"
   ]
  },
  {
   "cell_type": "markdown",
   "id": "1390d73f",
   "metadata": {},
   "source": [
    "En este gráfico de arriba, vemos que podría adivinarse algo de correlación entre la humedad y la temperatura, pero no muy acentuada. Aunque los puntos principalmente van siguiendo la diagonal desde abajo a la izquierda hacia arriba a la derecha, no es algo muy marcado.\n",
    "\n",
    "## Agregar nombres de columnas:\n",
    "\n",
    "Para manejar las columnas con facilidad tendremos que usar nombres de columnas, los cuales se pueden crear directamente en el dataframe, escribiendo la lista de nombres dentro de la propiedad *columns*.\n",
    "\n",
    "Ejecuta la celda para ver cómo queda:"
   ]
  },
  {
   "cell_type": "code",
   "execution_count": null,
   "id": "a59901fe",
   "metadata": {},
   "outputs": [],
   "source": [
    "\n",
    "df.columns =['hora', 'temperatura', 'humedad']\n",
    "print(df)\n",
    "print(df.size)"
   ]
  },
  {
   "cell_type": "markdown",
   "id": "944582ca",
   "metadata": {},
   "source": [
    "Esto es útil para poder seleccionar solamente una columna, por el nombre, y hacer que la primera fila se tome como dato en vez de como nombres de columna. Si observas ambos resultados, se ve que en el primero, la primera fila de datos numerada con la etiqueta 0 es la segunda fila del archivo, mientras que ahora se ha suprimido la primera fila de datos y se ha sustituido por los nombres de columna:\n",
    "\n",
    " sin nombres de columna:   |  Con nombres de columna:\n",
    ":-------------------------:|:-------------------------:\n",
    "![](df_sin_columnas2.png)  |  ![](df_con_columnas2.png)\n",
    "\n",
    "En ambos casos tenemos 757 filas de datos que forman parte de los cálculos. En ambos casos se ha quitado el valor a la primera línea del archivo, que en lugar de cargarse como dato, se utiliza como fila de etiquetas de columna.\n",
    "\n",
    "Pero existe una manera de cargar el archivo sin desperdiciar la primera fila. Se pueden indicar los nombres de columna durante la lectura del archivo, con el parámetro *names*."
   ]
  },
  {
   "cell_type": "code",
   "execution_count": null,
   "id": "15260deb",
   "metadata": {},
   "outputs": [],
   "source": [
    "df = pd.read_csv('datos.csv', names = ['hora', 'temperatura', 'humedad'])\n",
    "print(df)\n",
    "print(df.size)"
   ]
  },
  {
   "cell_type": "markdown",
   "id": "490ee282",
   "metadata": {},
   "source": [
    "Si miras el resultado de la operación anterior, verás que ahora la tabla tiene 758 filas de datos.\n",
    "\n",
    "### Ejercicio 4:\n",
    "\n",
    "Puedes usar `df['humedad'].plot()` para hacer el gráfico de una sola columna:"
   ]
  },
  {
   "cell_type": "code",
   "execution_count": null,
   "id": "677ad22c",
   "metadata": {},
   "outputs": [],
   "source": []
  },
  {
   "cell_type": "markdown",
   "id": "86a7fd01",
   "metadata": {},
   "source": [
    "Existen muchos más parámetros que podemos incluir dentro de los paréntesis, tales como las etiquetas y título del gráfico:\n",
    "\n",
    "`df['temperatura'].plot(kind='area', title = 'Temp. en la ventana', ylabel = 'Temp', xlabel='hora', grid = True)`\n",
    "\n",
    "### Ejercicio 5:\n",
    "\n",
    "Copia la instrucción debajo, para comprobar cómo sale el gráfico."
   ]
  },
  {
   "cell_type": "code",
   "execution_count": null,
   "id": "962d48ef",
   "metadata": {},
   "outputs": [],
   "source": []
  },
  {
   "cell_type": "markdown",
   "id": "faa25c8a",
   "metadata": {},
   "source": [
    "## Usar la selección de columna con otros métodos\n",
    "\n",
    "Seleccionar una sola columna no se utiliza solamente para dibujar el gráfico. También podemos usar los otros métodos con una sola columna:"
   ]
  },
  {
   "cell_type": "code",
   "execution_count": 85,
   "id": "4b676df7",
   "metadata": {
    "scrolled": true
   },
   "outputs": [
    {
     "data": {
      "text/plain": [
       "759"
      ]
     },
     "execution_count": 85,
     "metadata": {},
     "output_type": "execute_result"
    }
   ],
   "source": [
    "df['temperatura'].count()"
   ]
  },
  {
   "cell_type": "markdown",
   "id": "c2cd7e6a",
   "metadata": {},
   "source": [
    "### Ejercicio 6:\n",
    "Utiliza ahora *mean()* con la columna de temperatura y con la columna de humedad, cada una en una línea:"
   ]
  },
  {
   "cell_type": "code",
   "execution_count": null,
   "id": "6b88603d",
   "metadata": {},
   "outputs": [],
   "source": []
  },
  {
   "cell_type": "markdown",
   "id": "0b0cfc65",
   "metadata": {},
   "source": [
    "Por último, *value_counts()*, es un método que hace un recuento de la cantidad de datos por cada valor distinto. Utilízalo en la siguiente celda con la columna de humedad:"
   ]
  },
  {
   "cell_type": "code",
   "execution_count": null,
   "id": "dbc96a7a",
   "metadata": {},
   "outputs": [],
   "source": []
  },
  {
   "cell_type": "markdown",
   "id": "564d8877",
   "metadata": {},
   "source": [
    "## Matplotlib\n",
    "\n",
    "Pyplot, un conjunto de funciones de Matplotlib, nos permiten usar nuevos métodos con los DataFrames.\n",
    "Uno de ellos es crear gráficos. En general, hay muchas más opciones que en Pandas.\n",
    "\n",
    "Escribe `import matplotlib.pyplot as plt` en la celda siguiente para importar pyplot."
   ]
  },
  {
   "cell_type": "code",
   "execution_count": null,
   "id": "c4d1b7a6",
   "metadata": {},
   "outputs": [],
   "source": []
  },
  {
   "cell_type": "markdown",
   "id": "1419b659",
   "metadata": {},
   "source": [
    "## Gráficos con pyplot\n",
    "\n",
    "También **pyplot** tiene un método **plot()**.\n",
    "\n",
    "Podríamos escribir *matplotlib.pyplot.plot()*, pero escribir eso es muy largo, así que sustituimos el nombre completo de la librería por su \"alias\", ***plt***.\n",
    "\n",
    "### Ejercicio 7:\n",
    "Ejecuta `plt.plot(df['temperatura'])` en la siguiente celda. Verás que funciona igual que `df['temperatura'].plot()`."
   ]
  },
  {
   "cell_type": "code",
   "execution_count": null,
   "id": "3d862da8",
   "metadata": {},
   "outputs": [],
   "source": [
    "plt.plot(df['temperatura'])"
   ]
  },
  {
   "cell_type": "code",
   "execution_count": null,
   "id": "0a3254de",
   "metadata": {
    "scrolled": true
   },
   "outputs": [],
   "source": [
    "df['temperatura'].plot()"
   ]
  },
  {
   "cell_type": "markdown",
   "id": "10bc7624",
   "metadata": {},
   "source": [
    "Pero Pyplot es mucho más configurable y puede detallarse mucho más cómo queremos que se vea el gráfico:"
   ]
  },
  {
   "cell_type": "code",
   "execution_count": 262,
   "id": "8e8acae0",
   "metadata": {},
   "outputs": [
    {
     "data": {
      "image/png": "[encoded data removed]",
      "text/plain": [
       "<Figure size 432x288 with 1 Axes>"
      ]
     },
     "metadata": {
      "needs_background": "light"
     },
     "output_type": "display_data"
    }
   ],
   "source": [
    "import numpy as np\n",
    "plt.scatter(df['temperatura'], df['humedad'], color='xkcd:green', alpha=0.2, s=(df['temperatura']-16.9)*66)\n",
    "theta = np.arange(4, 11, 0.1)\n",
    "plt.plot(22+3.6 * np.cos(theta), 37+4.6 * np.sin(theta+12),color='red')\n",
    "plt.show()"
   ]
  },
  {
   "cell_type": "code",
   "execution_count": 264,
   "id": "5363be26",
   "metadata": {
    "scrolled": true
   },
   "outputs": [
    {
     "data": {
      "image/png": "[encoded data removed]",
      "text/plain": [
       "<Figure size 432x288 with 1 Axes>"
      ]
     },
     "metadata": {
      "needs_background": "light"
     },
     "output_type": "display_data"
    }
   ],
   "source": [
    "fig, ax = plt.subplots()\n",
    "\n",
    "t = np.arange(0.0, 5.0, 0.01)\n",
    "s = np.cos(2*np.pi*t)\n",
    "line, = ax.plot(t, s, lw=2, color='orange')\n",
    "\n",
    "ax.annotate('máx local', xy=(2, 1), xytext=(3, 1.5),\n",
    "            arrowprops=dict(facecolor='black', shrink=0.05),\n",
    "            )\n",
    "ax.set_ylim(-2, 2)\n",
    "plt.show()"
   ]
  },
  {
   "cell_type": "markdown",
   "id": "3adf47dd",
   "metadata": {},
   "source": [
    "### Ejercicio 8:\n",
    "\n",
    "Dibuja el gráfico de temperaturas en color verde."
   ]
  },
  {
   "cell_type": "code",
   "execution_count": null,
   "id": "d7c9d43d",
   "metadata": {},
   "outputs": [],
   "source": []
  }
 ],
 "metadata": {
  "kernelspec": {
   "display_name": "Python 3 (ipykernel)",
   "language": "python",
   "name": "python3"
  },
  "language_info": {
   "codemirror_mode": {
    "name": "ipython",
    "version": 3
   },
   "file_extension": ".py",
   "mimetype": "text/x-python",
   "name": "python",
   "nbconvert_exporter": "python",
   "pygments_lexer": "ipython3",
   "version": "3.9.12"
  }
 },
 "nbformat": 4,
 "nbformat_minor": 5
}
